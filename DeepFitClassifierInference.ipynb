{
 "cells": [
  {
   "cell_type": "markdown",
   "metadata": {},
   "source": [
    "# Load Inference Module"
   ]
  },
  {
   "cell_type": "code",
   "execution_count": 2,
   "metadata": {},
   "outputs": [],
   "source": [
    "from DeepFitClassifier import DeepFitClassifier\n",
    "# Using pre-trained TFLite model\n",
    "clf = DeepFitClassifier('models/deepfit_classifier_v3.tflite')"
   ]
  },
  {
   "cell_type": "markdown",
   "metadata": {},
   "source": [
    "# Running Infrence - Example 1"
   ]
  },
  {
   "cell_type": "code",
   "execution_count": 3,
   "metadata": {},
   "outputs": [
    {
     "data": {
      "text/plain": [
       "'pushups'"
      ]
     },
     "execution_count": 3,
     "metadata": {},
     "output_type": "execute_result"
    }
   ],
   "source": [
    "# Using a datapoint that denotes a pushup. This is an array of size 36. \n",
    "# The first 18 elements are the x-coordinates of the keypoints, the next 18 are the y-coordinates of the keypoints\n",
    "inp_pushup = [866.469,778.292,746.965,697.863,703.836,809.622,803.724,821.425,631.299,529.483,415.826,658.756,572.517,523.592,858.634,868.470,821.323,870.297,537.271,541.225,539.221,648.971,715.638,545.140,627.396,703.875,590.201,617.607,617.595,635.322,652.921,688.137,521.554,523.591,503.956,662.689\n",
    "]\n",
    "# Running the prediction using the model\n",
    "clf.predict(inp_pushup)"
   ]
  },
  {
   "cell_type": "code",
   "execution_count": 4,
   "metadata": {},
   "outputs": [
    {
     "data": {
      "text/plain": [
       "{'squats': 0.0,\n",
       " 'lunges': 2.2728388e-15,\n",
       " 'bicep_curls': 0.0,\n",
       " 'situps': 1.7629263e-29,\n",
       " 'pushups': 1.0,\n",
       " 'tricep_extensions': 0.0,\n",
       " 'dumbbell_rows': 0.0,\n",
       " 'jumping_jacks': 5.7089534e-21,\n",
       " 'dumbbell_shoulder_press': 0.0,\n",
       " 'lateral_shoulder_raises': 1.1668859e-23}"
      ]
     },
     "execution_count": 4,
     "metadata": {},
     "output_type": "execute_result"
    }
   ],
   "source": [
    "# We can also fetch the prediction probabilities for each class\n",
    "clf.get_results()"
   ]
  },
  {
   "cell_type": "markdown",
   "metadata": {},
   "source": [
    "# Running Inference - Example 2"
   ]
  },
  {
   "cell_type": "code",
   "execution_count": 5,
   "metadata": {},
   "outputs": [
    {
     "data": {
      "text/plain": [
       "'squats'"
      ]
     },
     "execution_count": 5,
     "metadata": {},
     "output_type": "execute_result"
    }
   ],
   "source": [
    "# Here we are using a datapoint that denotes a squat. This is an array of size 36.\n",
    "inp_squat = [817.413,795.951,741.045,725.332,790.002,854.694,905.597,854.602,742.945,682.289,682.189,821.296,911.485,870.326,803.706,825.284,776.276,837.118,343.362,394.275,388.420,494.129,429.511,394.276,500.086,427.626,515.744,558.922,696.008,513.823,574.500,695.966,331.602,333.469,331.593,335.443]\n",
    "clf.predict(inp_squat)"
   ]
  },
  {
   "cell_type": "code",
   "execution_count": 6,
   "metadata": {},
   "outputs": [
    {
     "data": {
      "text/plain": [
       "{'squats': 0.80697715,\n",
       " 'lunges': 3.588995e-08,\n",
       " 'bicep_curls': 0.0031544017,\n",
       " 'situps': 0.0006788637,\n",
       " 'pushups': 3.5635355e-06,\n",
       " 'tricep_extensions': 0.10601004,\n",
       " 'dumbbell_rows': 1.8595876e-10,\n",
       " 'jumping_jacks': 0.03490063,\n",
       " 'dumbbell_shoulder_press': 0.04249655,\n",
       " 'lateral_shoulder_raises': 0.0057788}"
      ]
     },
     "execution_count": 6,
     "metadata": {},
     "output_type": "execute_result"
    }
   ],
   "source": [
    "# Getting probabilities of each class\n",
    "clf.get_results()"
   ]
  }
 ],
 "metadata": {
  "interpreter": {
   "hash": "53a714998b4cda886d88c1f35ca09ebc6db63d3c7248d837ab3cd117369573cd"
  },
  "kernelspec": {
   "display_name": "Python 3.6.13 ('pytorch_p36')",
   "language": "python",
   "name": "python3"
  },
  "language_info": {
   "codemirror_mode": {
    "name": "ipython",
    "version": 3
   },
   "file_extension": ".py",
   "mimetype": "text/x-python",
   "name": "python",
   "nbconvert_exporter": "python",
   "pygments_lexer": "ipython3",
   "version": "3.6.13"
  },
  "orig_nbformat": 4
 },
 "nbformat": 4,
 "nbformat_minor": 2
}
